{
  "nbformat": 4,
  "nbformat_minor": 0,
  "metadata": {
    "colab": {
      "private_outputs": true,
      "provenance": []
    },
    "kernelspec": {
      "name": "python3",
      "display_name": "Python 3"
    },
    "language_info": {
      "name": "python"
    }
  },
  "cells": [
    {
      "cell_type": "code",
      "execution_count": null,
      "metadata": {
        "id": "WuIxoifeTXIF"
      },
      "outputs": [],
      "source": [
        "import pandas as pd\n",
        "import numpy as np\n",
        "import matplotlib.pyplot as plt\n",
        "import seaborn as sns\n",
        "\n",
        "import xgboost as xgb\n",
        "from sklearn.metrics import mean_squared_error\n",
        "color_pal = sns.color_palette()\n",
        "plt.style.use('fivethirtyeight')"
      ]
    },
    {
      "cell_type": "code",
      "source": [
        "df = pd.read_csv('/content/AEP_hourly.csv')\n",
        "df =df.set_index('Datetime')\n",
        "df.index=pd.to_datetime(df.index)"
      ],
      "metadata": {
        "id": "dLpSNzEcTgs4"
      },
      "execution_count": null,
      "outputs": []
    },
    {
      "cell_type": "code",
      "source": [
        "df.head()\n"
      ],
      "metadata": {
        "id": "ARW_X6DoWDpY"
      },
      "execution_count": null,
      "outputs": []
    },
    {
      "cell_type": "code",
      "source": [
        "df.tail()"
      ],
      "metadata": {
        "id": "LvvzScNZWDmh"
      },
      "execution_count": null,
      "outputs": []
    },
    {
      "cell_type": "code",
      "source": [
        "df.describe()\n"
      ],
      "metadata": {
        "id": "Ich7pqZFWDjG"
      },
      "execution_count": null,
      "outputs": []
    },
    {
      "cell_type": "code",
      "source": [
        "df.plot(style='.',\n",
        "        figsize=(15, 5),\n",
        "        color=color_pal[2],\n",
        "        title='PJME Energy use in MW')\n",
        "plt.show()\n"
      ],
      "metadata": {
        "id": "YdOxFGa6Wy4C"
      },
      "execution_count": null,
      "outputs": []
    },
    {
      "cell_type": "code",
      "source": [],
      "metadata": {
        "id": "kLeDVeqnWWDT"
      },
      "execution_count": null,
      "outputs": []
    },
    {
      "cell_type": "markdown",
      "source": [
        "## TRAIN/TEST SPLIT"
      ],
      "metadata": {
        "id": "2Yq-en3cZioi"
      }
    },
    {
      "cell_type": "code",
      "source": [
        "train = df.loc[df.index < '01-01-2015']\n",
        "test = df.loc[df.index >= '01-01-2015']\n",
        "\n",
        "fig, ax = plt.subplots(figsize=(15, 5))\n",
        "train.plot(ax=ax, label = 'Training set',title='Data Train/Test Split')\n",
        "test.plot(ax=ax, label = 'Test Set')\n",
        "ax.axvline('01-01-2015', color ='black', ls='--')\n",
        "ax.legend(['Training Set','Test Set'])\n",
        "plt.show()"
      ],
      "metadata": {
        "id": "yya0pLoyWV_d"
      },
      "execution_count": null,
      "outputs": []
    },
    {
      "cell_type": "code",
      "source": [
        "df.loc[(df.index > '01-01-2010') & (df.index < '01-08-2010' )].plot()"
      ],
      "metadata": {
        "id": "Wdsd45_zWV9p"
      },
      "execution_count": null,
      "outputs": []
    },
    {
      "cell_type": "markdown",
      "source": [
        "## FEATURE CREATION"
      ],
      "metadata": {
        "id": "X0_w98Zqc1w7"
      }
    },
    {
      "cell_type": "code",
      "source": [
        "df.index.hour"
      ],
      "metadata": {
        "id": "ylWRe-i_4BdU"
      },
      "execution_count": null,
      "outputs": []
    },
    {
      "cell_type": "code",
      "source": [
        "def create_features(df):\n",
        "\n",
        "    df['hour'] = df.index.hour\n",
        "    df['dayofweek'] = df.index.dayofweek\n",
        "    df['quarter'] = df.index.quarter\n",
        "    df['month'] = df.index.month\n",
        "    df['year'] = df.index.year\n",
        "    df['dayofyear'] = df.index.dayofyear\n",
        "    return df\n",
        "\n",
        "df = create_features(df)"
      ],
      "metadata": {
        "id": "jFD6Vj8qckgd"
      },
      "execution_count": null,
      "outputs": []
    },
    {
      "cell_type": "markdown",
      "source": [
        "## VISUALIZE OUR FEATURE /TARGET RELATIONSHIP\n"
      ],
      "metadata": {
        "id": "gXY838eA2XVw"
      }
    },
    {
      "cell_type": "code",
      "source": [
        "print(df.columns)\n"
      ],
      "metadata": {
        "id": "g0bditUX4gPr"
      },
      "execution_count": null,
      "outputs": []
    },
    {
      "cell_type": "code",
      "source": [
        "fig, ax = plt.subplots(figsize=(18,8))\n",
        "sns.boxplot(data=df, x='hour', y ='AEP_MW', palette ='rainbow')\n",
        "ax.set_title('MW by Hour')\n",
        "plt.show()"
      ],
      "metadata": {
        "id": "DP2DcokvdcME"
      },
      "execution_count": null,
      "outputs": []
    },
    {
      "cell_type": "code",
      "source": [
        "fig, ax = plt.subplots(figsize=(18,8))\n",
        "sns.boxplot(data=df, x='month', y ='AEP_MW', palette ='Greens')\n",
        "ax.set_title('MW by Month')\n",
        "plt.show()"
      ],
      "metadata": {
        "id": "TsroL2IrdcJ4"
      },
      "execution_count": null,
      "outputs": []
    },
    {
      "cell_type": "markdown",
      "source": [
        "## CREATE A MODEL\n"
      ],
      "metadata": {
        "id": "ZBYBdXKl6dqE"
      }
    },
    {
      "cell_type": "code",
      "source": [
        "train = create_features(train)\n",
        "test =  create_features(test)\n",
        "FEATURES = ['hour', 'dayofweek', 'quarter', 'month', 'year', 'dayofyear']\n",
        "TARGET = 'AEP_MW'\n",
        "\n"
      ],
      "metadata": {
        "collapsed": true,
        "id": "17EifWt67COd"
      },
      "execution_count": null,
      "outputs": []
    },
    {
      "cell_type": "code",
      "source": [
        "X_train = train[FEATURES]\n",
        "y_train = train[TARGET]\n",
        "\n",
        "X_test = test[FEATURES]\n",
        "y_test = test[TARGET]"
      ],
      "metadata": {
        "id": "WeI3yOt_RQGo"
      },
      "execution_count": null,
      "outputs": []
    },
    {
      "cell_type": "code",
      "source": [
        "!pip install -U xgboost"
      ],
      "metadata": {
        "collapsed": true,
        "id": "ya6w9QuO9yGj"
      },
      "execution_count": null,
      "outputs": []
    },
    {
      "cell_type": "code",
      "source": [
        "import xgboost\n",
        "print(xgboost.__version__)"
      ],
      "metadata": {
        "id": "219d1X_r95J_"
      },
      "execution_count": null,
      "outputs": []
    },
    {
      "cell_type": "code",
      "source": [
        "reg = xgb.XGBRegressor(n_estimators=1000,early_stopping_rounds=50, learning_rate=0.001)\n",
        "\n",
        "reg.fit(X_train, y_train,\n",
        "    eval_set=[(X_train, y_train), (X_test, y_test)],\n",
        "    verbose=100\n",
        ")\n",
        "\n"
      ],
      "metadata": {
        "id": "fpx4BX4rWV51"
      },
      "execution_count": null,
      "outputs": []
    },
    {
      "cell_type": "markdown",
      "source": [
        "## FEATURE IMPORTANCE\n"
      ],
      "metadata": {
        "id": "NGOkSilwAT8R"
      }
    },
    {
      "cell_type": "code",
      "source": [
        "fi = pd.DataFrame(data=reg.feature_importances_,\n",
        "             index=reg.feature_names_in_,\n",
        "             columns=['importance'])\n",
        "fi.sort_values('importance').plot(kind='barh', title ='Feature Importance')\n",
        "plt.show()"
      ],
      "metadata": {
        "id": "nBaKwZqyWVtd"
      },
      "execution_count": null,
      "outputs": []
    },
    {
      "cell_type": "markdown",
      "source": [
        "## FORECAST ON TEST"
      ],
      "metadata": {
        "id": "6fuXTUkVIE4X"
      }
    },
    {
      "cell_type": "code",
      "source": [
        "test['prediction'] = reg.predict(X_test)"
      ],
      "metadata": {
        "id": "aDdJipArOCK0"
      },
      "execution_count": null,
      "outputs": []
    },
    {
      "cell_type": "code",
      "source": [
        "df.columns"
      ],
      "metadata": {
        "id": "l-PF-UOIIrVw"
      },
      "execution_count": null,
      "outputs": []
    },
    {
      "cell_type": "code",
      "source": [
        "print(type(test))\n",
        "print(test.head())\n"
      ],
      "metadata": {
        "id": "jzB_SL5eJ_SH"
      },
      "execution_count": null,
      "outputs": []
    },
    {
      "cell_type": "code",
      "source": [
        "print(f\"X_test shape: {X_test.shape}\")\n",
        "print(f\"test shape: {test.shape}\")\n"
      ],
      "metadata": {
        "id": "w1pDSiTGMEDR"
      },
      "execution_count": null,
      "outputs": []
    },
    {
      "cell_type": "code",
      "source": [
        "df = df.merge(test[['prediction']], how='left', left_index=True, right_index=True)\n",
        "ax = df[['AEP_MW']].plot(figsize=(15, 5))\n",
        "df['prediction'].plot(ax=ax, style='.')\n",
        "plt.legend(['truth data', 'predictions'])\n",
        "ax.set_title('raw data and prediction')\n",
        "plt.show()"
      ],
      "metadata": {
        "collapsed": true,
        "id": "9PBsqextWVqj"
      },
      "execution_count": null,
      "outputs": []
    },
    {
      "cell_type": "code",
      "source": [
        "score = np.sqrt(mean_squared_error(test['AEP_MW'], test['prediction']))\n",
        "print(f'RMSE Score on test set:{score:0.2f}')"
      ],
      "metadata": {
        "collapsed": true,
        "id": "kEK0biMGWVmH"
      },
      "execution_count": null,
      "outputs": []
    },
    {
      "cell_type": "markdown",
      "source": [
        "## CALCULATE ERROR\n",
        "\n",
        "LOOK AT THE BEST AND WORST PREDICTED KEYS"
      ],
      "metadata": {
        "id": "Ho98JxK5O8Bm"
      }
    },
    {
      "cell_type": "code",
      "source": [
        "test['error'] = np.abs(test[TARGET] - test['prediction'])\n",
        "test['date']=test.index.date\n",
        "test.groupby('date')['error'].mean().sort_values(ascending=False).head(5)"
      ],
      "metadata": {
        "collapsed": true,
        "id": "TYxWcAsRWVkq"
      },
      "execution_count": null,
      "outputs": []
    },
    {
      "cell_type": "code",
      "source": [
        "test['error'] = np.abs(test[TARGET] - test['prediction'])\n",
        "test['date']=test.index.date\n",
        "test.groupby('date')['error'].mean().sort_values(ascending=True).head(5)"
      ],
      "metadata": {
        "collapsed": true,
        "id": "hzpZdmA_WU53"
      },
      "execution_count": null,
      "outputs": []
    },
    {
      "cell_type": "code",
      "source": [
        "#next steps\n",
        "add more features (weather forecast, holidays)\n",
        "more robust cross validation"
      ],
      "metadata": {
        "id": "HLBHa0ofSTBl"
      },
      "execution_count": null,
      "outputs": []
    }
  ]
}